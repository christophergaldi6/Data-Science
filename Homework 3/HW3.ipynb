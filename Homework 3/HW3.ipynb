{
 "cells": [
  {
   "cell_type": "code",
   "execution_count": 370,
   "metadata": {},
   "outputs": [],
   "source": [
    "# import the necessary packages\n",
    "\n",
    "import warnings\n",
    "warnings.filterwarnings('ignore')\n",
    "\n",
    "\n",
    "import pandas as pd\n",
    "import numpy as np\n",
    "from plotnine import *\n",
    "import statsmodels.api as sm\n",
    "\n",
    "from sklearn.linear_model import LogisticRegression #Logistic Regression Model\n",
    "from sklearn.preprocessing import StandardScaler #Z-score variables\n",
    "from sklearn.metrics import accuracy_score, confusion_matrix, plot_confusion_matrix\n",
    "\n",
    "from sklearn.model_selection import train_test_split #simple TT split cv\n",
    "from sklearn.model_selection import KFold #K-fold cv\n",
    "from sklearn.model_selection import LeaveOneOut #LOO cv\n",
    "from sklearn.model_selection import cross_val_score #cross validation metrics\n",
    "from sklearn.model_selection import cross_val_predict #cross validation metrics\n",
    "\n",
    "%matplotlib inline"
   ]
  },
  {
   "cell_type": "markdown",
   "metadata": {},
   "source": [
    "## 1. Building a Logistic Regression Model\n",
    "\n",
    "Using the grad admissions [data](https://raw.githubusercontent.com/cmparlettpelleriti/CPSC392ParlettPelleriti/master/Data/GradAdmissions.csv), build a logistic regression model that predicts `Admission` (whether or not a student was admitted) based on ALL the other variables in the data set (EXCEPT `Serial No`, information on the variables can be found [here](https://www.kaggle.com/mohansacharya/graduate-admissions#Admission_Predict_Ver1.1.csv), note that I've added the `Admissions` column to our dataset.)\n",
    "\n",
    "### 1.1\n",
    "Z-score your continuous variables\n",
    "### 1.2\n",
    "Use Train Test Split to validate your model\n",
    "### 1.3\n",
    "Put your coefficients in a data frame and for EACH predictor variable, interpret the coefficient in terms of Log Odds\n",
    "### 1.4\n",
    "Add a row to your coefficients data frame and add the coefficients in terms of Odds. For EACH predictor variable, interpret the coefficient in terms of Odds\n",
    "### 1.5\n",
    "(MARKDOWN) How well did your model do? Which metrics did you use to support your assessment?"
   ]
  },
  {
   "cell_type": "markdown",
   "metadata": {},
   "source": [
    "    \n",
    "## 2. Exploring Logistic Regression Coefficients\n",
    "\n",
    "### 2.1\n",
    "\n",
    "Using the coefficients from grad admissions model, manually (using code but not any built-in sklearn functions) calculate the predicted *log odds* of admission for the two students with the following (already z-scored) values:\n",
    "\n",
    "(hint: if you're confused about how to do this, click [here](https://github.com/cmparlettpelleriti/CPSC392ParlettPelleriti/blob/master/Extras/Hint_HW3.ipynb) for a hint)\n",
    "\n",
    "|           | GRE Score | TOEFL Score | University Rating | SOP  | LOR  | CGPA | Research |\n",
    "|-----------|-----------|-------------|-------------------|------|------|------|----------|\n",
    "| Student 1 | 0.60      | 0.05        | 0.75              | 0.65 | 1.02 | 0.25 | 1        |\n",
    "| Student 2 | 1.60      | 0.05        | 0.75              | 0.65 | 1.02 | 0.25 | 1        |\n",
    "\n",
    "Note that the only difference between Student 1 and Student 2 is a *1 unit (standard deviation) increase in GRE score*. \n",
    "\n",
    "* 2.1.1 (MARKDOWN) What is the difference (Student 2 - Student 1) in the log odds of the two students? (does that number look familiar?)\n",
    "\n",
    "Now calculate the predicted *odds* of admission for the two students.\n",
    "\n",
    "* 2.1.2 (MARKDOWN) What is the ratio (Student 2/Student 1) in the odds of the two students? (does that number look familiar?)\n",
    "\n",
    "Now calculate the predicted *probability* of admission for the two students.\n",
    "\n",
    "### 2.2\n",
    "The following students are from the same data set. Similarly to Students 1&2, the *only difference between Student 3&4 is a 1 unit (standard deviation) increase in GRE score*. To reiterate: the difference between Student 1 and Student 2 is *the same* as the difference between Student 3 and Student 4, but Students 1&2 have different values for the other variables than Students 3&4 do.\n",
    "\n",
    "|           | GRE Score | TOEFL Score | University Rating | SOP  | LOR  | CGPA | Research |\n",
    "|-----------|-----------|-------------|-------------------|------|------|------|----------|\n",
    "| Student 3 | -1.25     | 0.24        | 0                 | 0.56 | -1   | -0.1 | 0        |\n",
    "| Student 4 | -0.25     | 0.24        | 0                 | 0.56 | -1   | -0.1 | 0        |\n",
    "\n",
    "Calculate the *log odds* of admission for the two students.\n",
    "\n",
    "* 2.2.1 (MARKDOWN) What is the difference (Student 4 - Student 3) in the log odds of the two students? (does that number look familiar?)\n",
    "\n",
    "Now calculate the predicted *odds* of admission for the two students.\n",
    "\n",
    "* 2.2.2 (MARKDOWN) What is the ratio (Student 4/Student 3) in the odds of the two students? (does that number look familiar?)\n",
    "\n",
    "Now calculate the predicted *probability* of admission for the two students.\n",
    "\n",
    "### 2.3\n",
    "\n",
    "* 2.3.1 (MARKDOWN) Is the difference in log odds the same for the two pairs (1&2 and 3&4) of students?\n",
    "* 2.3.2 (MARKDOWN) Is the ratio of  odds the same for the two pairs (1&2 and 3&4) of students?\n",
    "* 2.3.3 (MARKDOWN) Is the difference in probability OR the ratio of probabilities the same for the two pairs (1/2 and 3/4) of students? \n",
    "* 2.3.4 (MARKDOWN) Using the information you learned in lectures and classwork, explain *why* the differences/ratios may be constant for some of these measures(log odds, odds, probabilities...) but not others."
   ]
  },
  {
   "cell_type": "code",
   "execution_count": 371,
   "metadata": {},
   "outputs": [
    {
     "data": {
      "text/html": [
       "<div>\n",
       "<style scoped>\n",
       "    .dataframe tbody tr th:only-of-type {\n",
       "        vertical-align: middle;\n",
       "    }\n",
       "\n",
       "    .dataframe tbody tr th {\n",
       "        vertical-align: top;\n",
       "    }\n",
       "\n",
       "    .dataframe thead th {\n",
       "        text-align: right;\n",
       "    }\n",
       "</style>\n",
       "<table border=\"1\" class=\"dataframe\">\n",
       "  <thead>\n",
       "    <tr style=\"text-align: right;\">\n",
       "      <th></th>\n",
       "      <th>Serial No.</th>\n",
       "      <th>GRE Score</th>\n",
       "      <th>TOEFL Score</th>\n",
       "      <th>University Rating</th>\n",
       "      <th>SOP</th>\n",
       "      <th>LOR</th>\n",
       "      <th>CGPA</th>\n",
       "      <th>Research</th>\n",
       "      <th>Admitted</th>\n",
       "    </tr>\n",
       "  </thead>\n",
       "  <tbody>\n",
       "    <tr>\n",
       "      <th>0</th>\n",
       "      <td>1</td>\n",
       "      <td>337</td>\n",
       "      <td>118</td>\n",
       "      <td>4</td>\n",
       "      <td>4.5</td>\n",
       "      <td>4.5</td>\n",
       "      <td>9.65</td>\n",
       "      <td>1</td>\n",
       "      <td>1</td>\n",
       "    </tr>\n",
       "    <tr>\n",
       "      <th>1</th>\n",
       "      <td>2</td>\n",
       "      <td>324</td>\n",
       "      <td>107</td>\n",
       "      <td>4</td>\n",
       "      <td>4.0</td>\n",
       "      <td>4.5</td>\n",
       "      <td>8.87</td>\n",
       "      <td>1</td>\n",
       "      <td>1</td>\n",
       "    </tr>\n",
       "    <tr>\n",
       "      <th>2</th>\n",
       "      <td>3</td>\n",
       "      <td>316</td>\n",
       "      <td>104</td>\n",
       "      <td>3</td>\n",
       "      <td>3.0</td>\n",
       "      <td>3.5</td>\n",
       "      <td>8.00</td>\n",
       "      <td>1</td>\n",
       "      <td>1</td>\n",
       "    </tr>\n",
       "    <tr>\n",
       "      <th>3</th>\n",
       "      <td>4</td>\n",
       "      <td>322</td>\n",
       "      <td>110</td>\n",
       "      <td>3</td>\n",
       "      <td>3.5</td>\n",
       "      <td>2.5</td>\n",
       "      <td>8.67</td>\n",
       "      <td>1</td>\n",
       "      <td>1</td>\n",
       "    </tr>\n",
       "    <tr>\n",
       "      <th>4</th>\n",
       "      <td>5</td>\n",
       "      <td>314</td>\n",
       "      <td>103</td>\n",
       "      <td>2</td>\n",
       "      <td>2.0</td>\n",
       "      <td>3.0</td>\n",
       "      <td>8.21</td>\n",
       "      <td>0</td>\n",
       "      <td>1</td>\n",
       "    </tr>\n",
       "  </tbody>\n",
       "</table>\n",
       "</div>"
      ],
      "text/plain": [
       "   Serial No.  GRE Score  TOEFL Score  University Rating  SOP  LOR   CGPA  \\\n",
       "0           1        337          118                  4  4.5   4.5  9.65   \n",
       "1           2        324          107                  4  4.0   4.5  8.87   \n",
       "2           3        316          104                  3  3.0   3.5  8.00   \n",
       "3           4        322          110                  3  3.5   2.5  8.67   \n",
       "4           5        314          103                  2  2.0   3.0  8.21   \n",
       "\n",
       "   Research  Admitted  \n",
       "0         1         1  \n",
       "1         1         1  \n",
       "2         1         1  \n",
       "3         1         1  \n",
       "4         0         1  "
      ]
     },
     "execution_count": 371,
     "metadata": {},
     "output_type": "execute_result"
    }
   ],
   "source": [
    "# 1.1\n",
    "ga = pd.read_csv(\"https://raw.githubusercontent.com/cmparlettpelleriti/CPSC392ParlettPelleriti/master/Data/GradAdmissions.csv\")\n",
    "\n",
    "ga.head()"
   ]
  },
  {
   "cell_type": "code",
   "execution_count": 372,
   "metadata": {},
   "outputs": [
    {
     "data": {
      "text/plain": [
       "(500, 9)"
      ]
     },
     "execution_count": 372,
     "metadata": {},
     "output_type": "execute_result"
    }
   ],
   "source": [
    "ga.shape"
   ]
  },
  {
   "cell_type": "code",
   "execution_count": 373,
   "metadata": {},
   "outputs": [
    {
     "data": {
      "text/plain": [
       "Index(['Serial No.', 'GRE Score', 'TOEFL Score', 'University Rating', 'SOP',\n",
       "       'LOR ', 'CGPA', 'Research', 'Admitted'],\n",
       "      dtype='object')"
      ]
     },
     "execution_count": 373,
     "metadata": {},
     "output_type": "execute_result"
    }
   ],
   "source": [
    "ga.columns"
   ]
  },
  {
   "cell_type": "code",
   "execution_count": 374,
   "metadata": {},
   "outputs": [
    {
     "data": {
      "text/plain": [
       "Serial No.           0\n",
       "GRE Score            0\n",
       "TOEFL Score          0\n",
       "University Rating    0\n",
       "SOP                  0\n",
       "LOR                  0\n",
       "CGPA                 0\n",
       "Research             0\n",
       "Admitted             0\n",
       "dtype: int64"
      ]
     },
     "execution_count": 374,
     "metadata": {},
     "output_type": "execute_result"
    }
   ],
   "source": [
    "ga.isnull().sum()"
   ]
  },
  {
   "cell_type": "code",
   "execution_count": 375,
   "metadata": {},
   "outputs": [],
   "source": [
    "# predicting chance of Admission\n",
    "# continuous v = GRE Score, TOEFL Score, SOP, LOR, CGPA, University Rating\n",
    "# categorical = Research"
   ]
  },
  {
   "cell_type": "code",
   "execution_count": 376,
   "metadata": {},
   "outputs": [],
   "source": [
    "# 1.2\n",
    "predictors = [\"GRE Score\", \"TOEFL Score\", \"SOP\", \"LOR \", \"CGPA\", \"University Rating\", \"Research\"]\n",
    "\n",
    "X_train, X_test, y_train, y_test = train_test_split(ga[predictors], ga[\"Admitted\"], test_size = 0.2)\n",
    "X_train.head()\n",
    "\n",
    "continuous = [\"GRE Score\", \"TOEFL Score\", \"SOP\", \"LOR \", \"CGPA\", \"University Rating\"]\n",
    "z = StandardScaler()\n",
    "\n",
    "z.fit(X_train[continuous])\n",
    "\n",
    "X_train[continuous] = z.transform(X_train[continuous])\n",
    "\n",
    "\n",
    "#    zScore = StandardScaler()\n",
    "\n",
    "\n",
    "#    zScore.fit(X_train)\n",
    "\n",
    "\n",
    "##   Xz_train = zScore.transform(X_train)\n",
    "\n",
    "\n",
    "#    Xz_test = zScore.transform(X_test)\n",
    "\n",
    "\n",
    "#X_train[predictors] = zScore.transform(X_train[predictors])\n",
    "\n",
    "\n",
    "#Xz_train = zScore.transform(X_train[predictors])\n",
    "\n",
    "\n",
    "# Xz_test = zScore.transform(X_test)\n",
    "\n"
   ]
  },
  {
   "cell_type": "code",
   "execution_count": 377,
   "metadata": {},
   "outputs": [],
   "source": [
    "myLogit = LogisticRegression()"
   ]
  },
  {
   "cell_type": "code",
   "execution_count": 378,
   "metadata": {},
   "outputs": [
    {
     "data": {
      "text/plain": [
       "LogisticRegression()"
      ]
     },
     "execution_count": 378,
     "metadata": {},
     "output_type": "execute_result"
    }
   ],
   "source": [
    "myLogit.fit(X_train, y_train)"
   ]
  },
  {
   "cell_type": "code",
   "execution_count": 379,
   "metadata": {},
   "outputs": [],
   "source": [
    "predictedVals = myLogit.predict(X_test)"
   ]
  },
  {
   "cell_type": "code",
   "execution_count": 380,
   "metadata": {},
   "outputs": [
    {
     "data": {
      "text/plain": [
       "0.68"
      ]
     },
     "execution_count": 380,
     "metadata": {},
     "output_type": "execute_result"
    }
   ],
   "source": [
    "accuracy_score(y_test, predictedVals)"
   ]
  },
  {
   "cell_type": "code",
   "execution_count": 381,
   "metadata": {},
   "outputs": [
    {
     "data": {
      "text/html": [
       "<div>\n",
       "<style scoped>\n",
       "    .dataframe tbody tr th:only-of-type {\n",
       "        vertical-align: middle;\n",
       "    }\n",
       "\n",
       "    .dataframe tbody tr th {\n",
       "        vertical-align: top;\n",
       "    }\n",
       "\n",
       "    .dataframe thead th {\n",
       "        text-align: right;\n",
       "    }\n",
       "</style>\n",
       "<table border=\"1\" class=\"dataframe\">\n",
       "  <thead>\n",
       "    <tr style=\"text-align: right;\">\n",
       "      <th></th>\n",
       "      <th>Coefficients</th>\n",
       "      <th>Predictors</th>\n",
       "    </tr>\n",
       "  </thead>\n",
       "  <tbody>\n",
       "    <tr>\n",
       "      <th>0</th>\n",
       "      <td>1.038434</td>\n",
       "      <td>GRE Score</td>\n",
       "    </tr>\n",
       "    <tr>\n",
       "      <th>1</th>\n",
       "      <td>0.112597</td>\n",
       "      <td>TOEFL Score</td>\n",
       "    </tr>\n",
       "    <tr>\n",
       "      <th>2</th>\n",
       "      <td>0.229847</td>\n",
       "      <td>SOP</td>\n",
       "    </tr>\n",
       "    <tr>\n",
       "      <th>3</th>\n",
       "      <td>0.612894</td>\n",
       "      <td>LOR</td>\n",
       "    </tr>\n",
       "    <tr>\n",
       "      <th>4</th>\n",
       "      <td>1.820139</td>\n",
       "      <td>CGPA</td>\n",
       "    </tr>\n",
       "    <tr>\n",
       "      <th>5</th>\n",
       "      <td>0.076732</td>\n",
       "      <td>University Rating</td>\n",
       "    </tr>\n",
       "    <tr>\n",
       "      <th>6</th>\n",
       "      <td>0.357075</td>\n",
       "      <td>Research</td>\n",
       "    </tr>\n",
       "    <tr>\n",
       "      <th>7</th>\n",
       "      <td>2.251618</td>\n",
       "      <td>intercept</td>\n",
       "    </tr>\n",
       "  </tbody>\n",
       "</table>\n",
       "</div>"
      ],
      "text/plain": [
       "   Coefficients         Predictors\n",
       "0      1.038434          GRE Score\n",
       "1      0.112597        TOEFL Score\n",
       "2      0.229847                SOP\n",
       "3      0.612894               LOR \n",
       "4      1.820139               CGPA\n",
       "5      0.076732  University Rating\n",
       "6      0.357075           Research\n",
       "7      2.251618          intercept"
      ]
     },
     "execution_count": 381,
     "metadata": {},
     "output_type": "execute_result"
    }
   ],
   "source": [
    "# 1.3\n",
    "coef = pd.DataFrame({\"Coefficients\" : myLogit.coef_[0], \"Predictors\" : predictors})\n",
    "coef = coef.append({\"Coefficients\" : myLogit.intercept_[0], \"Predictors\" : \"intercept\"}, ignore_index = True)\n",
    "coeft"
   ]
  },
  {
   "cell_type": "markdown",
   "metadata": {},
   "source": [
    "For the GRE Score: A one standard deviation increase in the GRE Score is associated with a 1.0 in the log odds of Admission. This means that GRE Score is positively associated with Admission. \n",
    "\n",
    "For the TOEFL Score: A one standard deviation increase in the TOEFL Score is associated with a 0.11 in the log odds of Admission. This means that the TOEFL is positvely associated with Admission, but not as impactful when compared to the association of the GRE Score. \n",
    "\n",
    "For the SOP: A one standard deviation increase in the SOP is associated with a 0.23 in the log odds of Admission. This means that the SOP score is positively associated with Admission, with a slight increase in impact when compared to TOEFL. \n",
    "\n",
    "For the LOR: A one standard deviation increase in the LOR is associated with a 0.61 in the log odds of Admission. This means that the LOR score is positively associated with Admission. \n",
    "\n",
    "For the CGPA: A one standard deviation increase in the CGPA is associated with a 1.82 in the log odds of Admission. This means that the CGPA is positively associated with Admission. The association between Admission and CGPA is the greatest. \n",
    "\n",
    "For the University Rating: A one standard deviation increase in the University Rating is associated with a 0.08 in the log odds of Admission. This means that the University Rating is positively associated but slightly. \n",
    "\n",
    "For the Research: A one standard deviation increase in the Research ratiing is associated with a 0.36 in the log odds of Admission. This means that the Research is positively associated with Admission. "
   ]
  },
  {
   "cell_type": "code",
   "execution_count": 382,
   "metadata": {},
   "outputs": [
    {
     "data": {
      "text/html": [
       "<div>\n",
       "<style scoped>\n",
       "    .dataframe tbody tr th:only-of-type {\n",
       "        vertical-align: middle;\n",
       "    }\n",
       "\n",
       "    .dataframe tbody tr th {\n",
       "        vertical-align: top;\n",
       "    }\n",
       "\n",
       "    .dataframe thead th {\n",
       "        text-align: right;\n",
       "    }\n",
       "</style>\n",
       "<table border=\"1\" class=\"dataframe\">\n",
       "  <thead>\n",
       "    <tr style=\"text-align: right;\">\n",
       "      <th></th>\n",
       "      <th>Coefficients</th>\n",
       "      <th>Predictors</th>\n",
       "      <th>Odds Coefficient</th>\n",
       "    </tr>\n",
       "  </thead>\n",
       "  <tbody>\n",
       "    <tr>\n",
       "      <th>0</th>\n",
       "      <td>1.038434</td>\n",
       "      <td>GRE Score</td>\n",
       "      <td>2.824791</td>\n",
       "    </tr>\n",
       "    <tr>\n",
       "      <th>1</th>\n",
       "      <td>0.112597</td>\n",
       "      <td>TOEFL Score</td>\n",
       "      <td>1.119181</td>\n",
       "    </tr>\n",
       "    <tr>\n",
       "      <th>2</th>\n",
       "      <td>0.229847</td>\n",
       "      <td>SOP</td>\n",
       "      <td>1.258408</td>\n",
       "    </tr>\n",
       "    <tr>\n",
       "      <th>3</th>\n",
       "      <td>0.612894</td>\n",
       "      <td>LOR</td>\n",
       "      <td>1.845766</td>\n",
       "    </tr>\n",
       "    <tr>\n",
       "      <th>4</th>\n",
       "      <td>1.820139</td>\n",
       "      <td>CGPA</td>\n",
       "      <td>6.172719</td>\n",
       "    </tr>\n",
       "    <tr>\n",
       "      <th>5</th>\n",
       "      <td>0.076732</td>\n",
       "      <td>University Rating</td>\n",
       "      <td>1.079753</td>\n",
       "    </tr>\n",
       "    <tr>\n",
       "      <th>6</th>\n",
       "      <td>0.357075</td>\n",
       "      <td>Research</td>\n",
       "      <td>1.429142</td>\n",
       "    </tr>\n",
       "    <tr>\n",
       "      <th>7</th>\n",
       "      <td>2.251618</td>\n",
       "      <td>intercept</td>\n",
       "      <td>9.503096</td>\n",
       "    </tr>\n",
       "  </tbody>\n",
       "</table>\n",
       "</div>"
      ],
      "text/plain": [
       "   Coefficients         Predictors  Odds Coefficient\n",
       "0      1.038434          GRE Score          2.824791\n",
       "1      0.112597        TOEFL Score          1.119181\n",
       "2      0.229847                SOP          1.258408\n",
       "3      0.612894               LOR           1.845766\n",
       "4      1.820139               CGPA          6.172719\n",
       "5      0.076732  University Rating          1.079753\n",
       "6      0.357075           Research          1.429142\n",
       "7      2.251618          intercept          9.503096"
      ]
     },
     "execution_count": 382,
     "metadata": {},
     "output_type": "execute_result"
    }
   ],
   "source": [
    "# 1.4\n",
    "coef[\"Odds Coefficient\"] = np.exp(coef[\"Coefficients\"])\n",
    "coef"
   ]
  },
  {
   "cell_type": "markdown",
   "metadata": {},
   "source": [
    "For the GRE Score: A one standard deviation increase in the GRE Score means that the odds will be around 2.8 times the previous odds that it was. Therefore, for every one standard deviation increase in GRE Score, we multiply our previous odds by 2.8 to get the new odds. \n",
    "\n",
    "For the TOEFL Score: A one standard deviation increase in the TOEFL Score means that the odds will be around 1.1 times the previous odds. So, for every one standard deviation increase in the TOEFL Score, the previous odds are multiplied by 1.1 to get the new odds. \n",
    "\n",
    "For the SOP: A one standard deviation increase in the SOP means that the odds will be around 1.3 times the previous odds. So, for every one standard deviation increase in the SOP, the previous odds are multiplied by 1.3 to get the new odds. \n",
    "\n",
    "For the LOR: A one standard deviation increase in the LOR means that the odds will be around 1.8 times the previous odds that it was. So, for every one standard deviation increase in LOR, we multiply our previous odds by 1.8 to get the new odds. \n",
    "\n",
    "For the CGPA score: A one standard deviation increase in the CGPA score means that the odds will be 6.2 times the previous odds. So, for every one standard deviation increase in CGPA, we multiply our previous odds by 6.2 to get the new odds. \n",
    "\n",
    "For the University Rating: A one standard deviation increase in the University Rating means that the odds will be 1.1 times the previous odds. So, for every one standard deviation increase in the University Rating, we multiply our previous odds by 1.1 to get the new odds. \n",
    "\n",
    "For the Research: A one standard deviation increase in the Research rating means that the odds will be 1.4 times the previous odds. So, for every one standard deviation increase in the Research rating, we multiply our previous odds by 1.4 to get the new odds. "
   ]
  },
  {
   "cell_type": "code",
   "execution_count": 383,
   "metadata": {},
   "outputs": [
    {
     "data": {
      "text/plain": [
       "0.68"
      ]
     },
     "execution_count": 383,
     "metadata": {},
     "output_type": "execute_result"
    }
   ],
   "source": [
    "# 1.5 \n",
    "accuracy_score(y_test, predictedVals)"
   ]
  },
  {
   "cell_type": "code",
   "execution_count": 387,
   "metadata": {},
   "outputs": [
    {
     "data": {
      "text/plain": [
       "array([[ 0, 32],\n",
       "       [ 0, 68]])"
      ]
     },
     "execution_count": 387,
     "metadata": {},
     "output_type": "execute_result"
    }
   ],
   "source": [
    "confusion_matrix(y_test, predictedVals)"
   ]
  },
  {
   "cell_type": "code",
   "execution_count": 388,
   "metadata": {},
   "outputs": [
    {
     "data": {
      "text/plain": [
       "<sklearn.metrics._plot.confusion_matrix.ConfusionMatrixDisplay at 0x7fa6fd5430d0>"
      ]
     },
     "execution_count": 388,
     "metadata": {},
     "output_type": "execute_result"
    },
    {
     "data": {
      "image/png": "[encoded data removed]",
      "text/plain": [
       "<Figure size 432x288 with 2 Axes>"
      ]
     },
     "metadata": {
      "needs_background": "light"
     },
     "output_type": "display_data"
    }
   ],
   "source": [
    "plot_confusion_matrix(myLogit, Xz_test, y_test)"
   ]
  },
  {
   "cell_type": "markdown",
   "metadata": {},
   "source": [
    "My model performed pretty well. My accuracy score was above 0.5, and the confusion matrix shows that the model got it right fairly often, only missing on 32 of the 100 times."
   ]
  },
  {
   "cell_type": "code",
   "execution_count": 396,
   "metadata": {},
   "outputs": [],
   "source": [
    "# 2.1\n",
    "def calc_og(GRE_Score, TOEFL_Score, SOP, LOR, CGPA, University_Rating, Research, coefs):\n",
    "    return(np.sum(np.array([GRE_Score, TOEFL_Score, SOP, LOR, CGPA, University_Rating, Research, 1]) * coefs))"
   ]
  },
  {
   "cell_type": "code",
   "execution_count": 401,
   "metadata": {},
   "outputs": [
    {
     "name": "stdout",
     "output_type": "stream",
     "text": [
      "Log Odds for Student 1: 4.52451912895571\n",
      "Log Odds for Student 2: 5.562953472594755\n",
      "The difference in log odds is: 1.0384343436390449\n"
     ]
    }
   ],
   "source": [
    "grescore = 0.6\n",
    "\n",
    "og = calc_og(grescore, 0.05, 0.65, 1.02, 0.25, 0.75, 1, coef[\"Coefficients\"])\n",
    "print (\"Log Odds for Student 1: \" + str(og))\n",
    "\n",
    "og2 = calc_og(grescore + 1, 0.05, 0.65, 1.02, 0.25, 0.75, 1, coef[\"Coefficients\"])\n",
    "print (\"Log Odds for Student 2: \" + str(og2))\n",
    "\n",
    "print(\"The difference in log odds is: \"+ str(og2-og))"
   ]
  },
  {
   "cell_type": "markdown",
   "metadata": {},
   "source": [
    "The difference is about 1, more specifically 1.038435. This is familiar to the increase from student 1 to student 2 in there GRE Score, which was a standard deviation increase. "
   ]
  },
  {
   "cell_type": "code",
   "execution_count": 417,
   "metadata": {},
   "outputs": [],
   "source": [
    "# odds\n",
    "def calc_od(GRE_Score, TOEFL_Score, SOP, LOR, CGPA, University_Rating, Research, coefs):\n",
    "    return(np.exp(np.sum(np.array([GRE_Score, TOEFL_Score, SOP, LOR, CGPA, University_Rating, Research, 1]) * coefs)))"
   ]
  },
  {
   "cell_type": "code",
   "execution_count": 435,
   "metadata": {},
   "outputs": [
    {
     "name": "stdout",
     "output_type": "stream",
     "text": [
      "Odds for Student 1: 92.25155405982535\n",
      "Odds for Student 2: 260.5913502833369\n",
      "The ratio of odds is: 2.8247908985288506\n"
     ]
    }
   ],
   "source": [
    "grescore2 = 0.60\n",
    "\n",
    "od = calc_od(grescore2, 0.05, 0.65, 1.02, 0.25, 0.75, 1, coef[\"Coefficients\"])\n",
    "print(\"Odds for Student 1: \" + str(od))\n",
    "\n",
    "od2 = calc_od(grescore2 + 1, 0.05, 0.65, 1.02, 0.25, 0.75, 1, coef[\"Coefficients\"])\n",
    "print(\"Odds for Student 2: \" + str(od2))\n",
    "\n",
    "print(\"The ratio of odds is: \" + str(od2/od))"
   ]
  },
  {
   "cell_type": "markdown",
   "metadata": {},
   "source": [
    "The ratio that I got for my odds is 2.825, which doesn't look that familiar. "
   ]
  },
  {
   "cell_type": "code",
   "execution_count": 436,
   "metadata": {},
   "outputs": [],
   "source": [
    "def calc_p(GRE_Score, TOEFL_Score, SOP, LOR, CGPA, University_Rating, Research, coefs):\n",
    "    odds = np.exp(np.sum(np.array([GRE_Score, TOEFL_Score, SOP, LOR, CGPA, University_Rating, Research, 1]) * coefs))\n",
    "    return (odds/(1+odds))"
   ]
  },
  {
   "cell_type": "code",
   "execution_count": 437,
   "metadata": {},
   "outputs": [
    {
     "name": "stdout",
     "output_type": "stream",
     "text": [
      "Probability for Student 1: 0.9892763181259322\n",
      "Probability for Student 1: 0.996177243632418\n",
      "The difference in probability is: 0.0069009255064858\n",
      "The change in probability is: 1.0069757310268568\n"
     ]
    }
   ],
   "source": [
    "grescore3 = 0.60\n",
    "\n",
    "p = calc_p(grescore3, 0.05, 0.65, 1.02, 0.25, 0.75, 1, coef[\"Coefficients\"])\n",
    "print (\"Probability for Student 1: \" + str(p))\n",
    "\n",
    "p2 = calc_p(grescore3 + 1, 0.05, 0.65, 1.02, 0.25, 0.75, 1, coef[\"Coefficients\"])\n",
    "print (\"Probability for Student 1: \" + str(p2))\n",
    "\n",
    "print(\"The difference in probability is: \" + str(p2 - p))\n",
    "print(\"The change in probability is: \" + str(p2/p))"
   ]
  },
  {
   "cell_type": "code",
   "execution_count": 438,
   "metadata": {},
   "outputs": [],
   "source": [
    "# 2.2\n",
    "def calc_og(GRE_Score, TOEFL_Score, SOP, LOR, CGPA, University_Rating, Research, coefs):\n",
    "    return(np.sum(np.array([GRE_Score, TOEFL_Score, SOP, LOR, CGPA, University_Rating, Research, 1]) * coefs))"
   ]
  },
  {
   "cell_type": "code",
   "execution_count": 439,
   "metadata": {},
   "outputs": [
    {
     "name": "stdout",
     "output_type": "stream",
     "text": [
      "Log Odds for Student 3: 0.31440441870309144\n",
      "Log Odds for Student 4: 1.3528387623421363\n",
      "The difference in log odds is: 1.0384343436390449\n"
     ]
    }
   ],
   "source": [
    "grescore = -1.25\n",
    "\n",
    "og = calc_og(grescore, 0.24, 0.56, -1, -0.1, 0, 0, coef[\"Coefficients\"])\n",
    "print (\"Log Odds for Student 3: \" + str(og))\n",
    "\n",
    "og2 = calc_og(grescore + 1, 0.24, 0.56, -1, -0.1, 0, 0, coef[\"Coefficients\"])\n",
    "print (\"Log Odds for Student 4: \" + str(og2))\n",
    "\n",
    "print(\"The difference in log odds is: \"+ str(og2-og))"
   ]
  },
  {
   "cell_type": "markdown",
   "metadata": {},
   "source": [
    "The difference between the log odds for Student 3 and Student 4 is 1.038435, which is similar to the concept of a one standard deviation increase in the GRE Score."
   ]
  },
  {
   "cell_type": "code",
   "execution_count": 428,
   "metadata": {},
   "outputs": [],
   "source": [
    "def calc_od(GRE_Score, TOEFL_Score, SOP, LOR, CGPA, University_Rating, Research, coefs):\n",
    "    return(np.exp(np.sum(np.array([GRE_Score, TOEFL_Score, SOP, LOR, CGPA, University_Rating, Research, 1]) * coefs)))"
   ]
  },
  {
   "cell_type": "code",
   "execution_count": 429,
   "metadata": {},
   "outputs": [
    {
     "name": "stdout",
     "output_type": "stream",
     "text": [
      "Odds for Student 3: 1.3694434531184272\n",
      "Odds for Student 4: 3.868391402418854\n",
      "The ratio of odds is: 2.824790898528851\n"
     ]
    }
   ],
   "source": [
    "grescore2 = -1.25\n",
    "\n",
    "od = calc_od(grescore2, 0.24, 0.56, -1, -0.1, 0, 0, coef[\"Coefficients\"])\n",
    "print(\"Odds for Student 3: \" + str(od))\n",
    "\n",
    "od2 = calc_od(grescore2 + 1, 0.24, 0.56, -1, -0.1, 0, 0, coef[\"Coefficients\"])\n",
    "print(\"Odds for Student 4: \" + str(od2))\n",
    "\n",
    "print(\"The ratio of odds is: \" + str(od2/od))"
   ]
  },
  {
   "cell_type": "markdown",
   "metadata": {},
   "source": [
    "The ratio of odds for Student 3 and Student 4 is 2.82479. "
   ]
  },
  {
   "cell_type": "code",
   "execution_count": 430,
   "metadata": {},
   "outputs": [],
   "source": [
    "def calc_p(GRE_Score, TOEFL_Score, SOP, LOR, CGPA, University_Rating, Research, coefs):\n",
    "    odds = np.exp(np.sum(np.array([GRE_Score, TOEFL_Score, SOP, LOR, CGPA, University_Rating, Research, 1]) * coefs))\n",
    "    return (odds/(1+odds))"
   ]
  },
  {
   "cell_type": "code",
   "execution_count": 434,
   "metadata": {},
   "outputs": [
    {
     "name": "stdout",
     "output_type": "stream",
     "text": [
      "Probability for Student 3: 0.5779599641072257\n",
      "Probability for Student 4: 0.7945933436035666\n",
      "The difference in probability is: 0.21663337949634087\n",
      "The change in probability is: 1.3748241970894546\n"
     ]
    }
   ],
   "source": [
    "grescore3 = -1.25\n",
    "\n",
    "p = calc_p(grescore3, 0.24, 0.56, -1, -0.1, 0, 0, coef[\"Coefficients\"])\n",
    "print (\"Probability for Student 3: \" + str(p))\n",
    "\n",
    "p2 = calc_p(grescore3 + 1, 0.24, 0.56, -1, -0.1, 0, 0, coef[\"Coefficients\"])\n",
    "print (\"Probability for Student 4: \" + str(p2))\n",
    "\n",
    "print(\"The difference in probability is: \" + str(p2 - p))\n",
    "print(\"The change in probability is: \" + str(p2/p))"
   ]
  },
  {
   "cell_type": "markdown",
   "metadata": {},
   "source": [
    "# 2.3.1\n",
    "The difference in log odds between the pairs of students was the same. "
   ]
  },
  {
   "cell_type": "markdown",
   "metadata": {},
   "source": [
    "# 2.3.2\n",
    "The ratio of odds for both pairs of students was also the same. "
   ]
  },
  {
   "cell_type": "markdown",
   "metadata": {},
   "source": [
    "# 2.3.3\n",
    "Both the difference in probability and the change in probability between the two pairs was different, with both values being higher for both metrics with the pair of Students 3 and 4. "
   ]
  }
 ],
 "metadata": {
  "kernelspec": {
   "display_name": "Python 3",
   "language": "python",
   "name": "python3"
  },
  "language_info": {
   "codemirror_mode": {
    "name": "ipython",
    "version": 3
   },
   "file_extension": ".py",
   "mimetype": "text/x-python",
   "name": "python",
   "nbconvert_exporter": "python",
   "pygments_lexer": "ipython3",
   "version": "3.8.5"
  }
 },
 "nbformat": 4,
 "nbformat_minor": 4
}
